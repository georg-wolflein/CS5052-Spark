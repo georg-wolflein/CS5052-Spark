{
 "metadata": {
  "language_info": {
   "codemirror_mode": {
    "name": "ipython",
    "version": 3
   },
   "file_extension": ".py",
   "mimetype": "text/x-python",
   "name": "python",
   "nbconvert_exporter": "python",
   "pygments_lexer": "ipython3",
   "version": "3.8.6"
  },
  "orig_nbformat": 2,
  "kernelspec": {
   "name": "python3",
   "display_name": "Python 3.8.6 64-bit ('cs5052-spark-deNYXB4T-py3.8': venv)",
   "metadata": {
    "interpreter": {
     "hash": "f73df07f316ba01412e85e686479e582f1dc68bc54d23bbe4060f502873dc57b"
    }
   }
  }
 },
 "nbformat": 4,
 "nbformat_minor": 2,
 "cells": [
  {
   "cell_type": "code",
   "execution_count": 54,
   "metadata": {},
   "outputs": [
    {
     "output_type": "stream",
     "name": "stdout",
     "text": [
      "/Users/georg/Desktop/CS5052-Spark/api/app/../../data/ml-latest-small\n"
     ]
    }
   ],
   "source": [
    "from pathlib import Path\n",
    "import os\n",
    "import itertools\n",
    "\n",
    "DATA_DIR = Path(\"../../data/ml-latest-small\")\n",
    "#DATA_DIR = Path(\"data/ml-latest\")\n",
    "os.environ[\"DATA_DIR\"] = str(DATA_DIR.absolute())\n",
    "!echo $$DATA_DIR"
   ]
  },
  {
   "cell_type": "code",
   "execution_count": 81,
   "metadata": {},
   "outputs": [],
   "source": [
    "from pyspark.ml.evaluation import RegressionEvaluator\n",
    "from pyspark.ml.recommendation import ALS\n",
    "from pyspark.sql import Row\n",
    "\n",
    "from data import spark, F\n",
    "from model import df_movies, df_ratings, df_links, df_tags"
   ]
  },
  {
   "cell_type": "code",
   "execution_count": 82,
   "metadata": {},
   "outputs": [],
   "source": []
  },
  {
   "cell_type": "code",
   "execution_count": 104,
   "metadata": {},
   "outputs": [],
   "source": [
    "def fit_model(df, reg_param):\n",
    "    als = ALS(maxIter=5, regParam=1., userCol=\"userId\", itemCol=\"movieId\", ratingCol=\"rating\",\n",
    "            coldStartStrategy=\"drop\")\n",
    "    model = als.fit(df)\n",
    "    return model\n",
    "\n",
    "def evaluate_model(model, df):\n",
    "    predictions = model.transform(test)\n",
    "    evaluator = RegressionEvaluator(metricName=\"rmse\", labelCol=\"rating\", predictionCol=\"prediction\")\n",
    "    rmse = evaluator.evaluate(predictions)\n",
    "    return rmse\n",
    "\n",
    "def select_best_reg_param(df_training, df_test):\n",
    "    best_rmse, best_reg_param = None, None\n",
    "    for reg_param in (1., .1, .01):\n",
    "        model = fit_model(df_training, reg_param)\n",
    "        rmse = evaluate_model(model, df_test)\n",
    "        if best_rmse is None or best_rmse > rmse:\n",
    "            best_rmse, best_reg_param = rmse, reg_param\n",
    "    return best_reg_param\n",
    "\n",
    "def generate_all_recommendations(df_ratings):\n",
    "    (df_training, df_test) = df_ratings.randomSplit([0.8, 0.2])\n",
    "    reg_param = select_best_reg_param(df_training, df_test)\n",
    "    model = fit_model(df_ratings, reg_param)\n",
    "    return model.recommendForAllUsers(10)"
   ]
  },
  {
   "cell_type": "code",
   "execution_count": 105,
   "metadata": {},
   "outputs": [],
   "source": [
    "df_recommendations = generate_all_recommendations(df_ratings)"
   ]
  },
  {
   "cell_type": "code",
   "execution_count": 128,
   "metadata": {},
   "outputs": [
    {
     "output_type": "execute_result",
     "data": {
      "text/plain": [
       "[Row(movieId=40491, title='Match Factory Girl, The (Tulitikkutehtaan tyttö)', genres=['Comedy', 'Drama'], year=1990),\n",
       " Row(movieId=3567, title='Bossa Nova', genres=['Comedy', 'Drama', 'Romance'], year=2000),\n",
       " Row(movieId=136850, title='Villain', genres=['Crime', 'Drama', 'Thriller'], year=1971),\n",
       " Row(movieId=25947, title='Unfaithfully Yours', genres=['Comedy'], year=1948),\n",
       " Row(movieId=5490, title='The Big Bus', genres=['Action', 'Comedy'], year=1976),\n",
       " Row(movieId=132333, title='Seve', genres=['Documentary', 'Drama'], year=2014),\n",
       " Row(movieId=67618, title='Strictly Sexual', genres=['Comedy', 'Drama', 'Romance'], year=2008),\n",
       " Row(movieId=141718, title='Deathgasm', genres=['Comedy', 'Horror'], year=2015),\n",
       " Row(movieId=162414, title='Mo', genres=['Drama'], year=None),\n",
       " Row(movieId=152711, title='Who Killed Chea Vichea?', genres=['Documentary'], year=2010)]"
      ]
     },
     "metadata": {},
     "execution_count": 128
    }
   ],
   "source": [
    "df_recommendations.filter(\"userId=1\").select(F.explode(\"recommendations.movieId\").alias(\"movieId\")).join(df_movies, how=\"inner\", on=\"movieId\").collect()"
   ]
  },
  {
   "cell_type": "code",
   "execution_count": null,
   "metadata": {},
   "outputs": [],
   "source": []
  }
 ]
}