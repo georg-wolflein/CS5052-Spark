{
 "metadata": {
  "language_info": {
   "codemirror_mode": {
    "name": "ipython",
    "version": 3
   },
   "file_extension": ".py",
   "mimetype": "text/x-python",
   "name": "python",
   "nbconvert_exporter": "python",
   "pygments_lexer": "ipython3",
   "version": "3.8.6"
  },
  "orig_nbformat": 2,
  "kernelspec": {
   "name": "python3",
   "display_name": "Python 3.8.6 64-bit ('cs5052-spark-deNYXB4T-py3.8': venv)",
   "metadata": {
    "interpreter": {
     "hash": "f73df07f316ba01412e85e686479e582f1dc68bc54d23bbe4060f502873dc57b"
    }
   }
  }
 },
 "nbformat": 4,
 "nbformat_minor": 2,
 "cells": [
  {
   "cell_type": "code",
   "execution_count": 43,
   "metadata": {},
   "outputs": [],
   "source": [
    "from pathlib import Path\n",
    "from pyspark.sql import SparkSession\n",
    "from pyspark.sql.functions import col, split, explode\n",
    "from pyspark.sql.types import StringType, IntegerType, BooleanType, FloatType, TimestampType\n",
    "\n",
    "DATA_DIR = Path(\"data/ml-latest-small\")"
   ]
  },
  {
   "cell_type": "code",
   "execution_count": 2,
   "metadata": {},
   "outputs": [],
   "source": [
    "spark = SparkSession.builder\\\n",
    "    .master(\"local\")\\\n",
    "    .appName(\"Word Count\")\\\n",
    "    .getOrCreate()"
   ]
  },
  {
   "cell_type": "code",
   "execution_count": 3,
   "metadata": {},
   "outputs": [],
   "source": [
    "# TODO: Spark schemas?\n",
    "def read_df(file: str, types: dict):\n",
    "    df = spark.read\\\n",
    "        .format(\"csv\")\\\n",
    "        .option(\"header\", \"true\")\\\n",
    "        .load(str(DATA_DIR / file))\n",
    "    return set_dtypes(df, types)\n",
    "\n",
    "def set_dtypes(df, types: dict):\n",
    "    for column, dtype in types.items():\n",
    "        dtype = {\n",
    "            str: StringType(),\n",
    "            int: IntegerType(),\n",
    "            float: FloatType(),\n",
    "            bool: BooleanType(),\n",
    "            \"time\": TimestampType() \n",
    "        }[dtype]\n",
    "        df = df.withColumn(column, col(column).cast(dtype))\n",
    "    return df\n",
    "\n",
    "df_links = read_df(\"links.csv\", {\n",
    "    \"movieId\": int,\n",
    "    \"imdbId\": int,\n",
    "    \"tmdbId\": int\n",
    "})\n",
    "df_movies = read_df(\"movies.csv\", {\n",
    "    \"movieId\": int,\n",
    "    \"title\": str,\n",
    "    \"genres\": str\n",
    "})\n",
    "df_ratings = read_df(\"ratings.csv\", {\n",
    "    \"userId\": int,\n",
    "    \"movieId\": int,\n",
    "    \"rating\": float,\n",
    "    \"timestamp\": \"time\"\n",
    "})\n",
    "df_tags = read_df(\"tags.csv\", {\n",
    "    \"userId\": int,\n",
    "    \"movieId\": int,\n",
    "    \"tag\": str,\n",
    "    \"timestamp\": \"time\"\n",
    "})"
   ]
  },
  {
   "cell_type": "code",
   "execution_count": 48,
   "metadata": {},
   "outputs": [],
   "source": [
    "df_genres = df_movies.select(df_movies.movieId, split(df_movies.genres, \"\\|\").alias(\"genres\"))\n",
    "df_genres = df_genres.select(df_genres.movieId, explode(df_genres.genres).alias(\"genre\"))"
   ]
  },
  {
   "cell_type": "code",
   "execution_count": 61,
   "metadata": {},
   "outputs": [
    {
     "output_type": "execute_result",
     "data": {
      "text/plain": [
       "[Row(genre='Crime', count=45),\n",
       " Row(genre='Romance', count=26),\n",
       " Row(genre='Thriller', count=55),\n",
       " Row(genre='Adventure', count=85),\n",
       " Row(genre='Drama', count=68),\n",
       " Row(genre='War', count=22),\n",
       " Row(genre='Fantasy', count=47),\n",
       " Row(genre='Mystery', count=18),\n",
       " Row(genre='Musical', count=22),\n",
       " Row(genre='Animation', count=29),\n",
       " Row(genre='Film-Noir', count=1),\n",
       " Row(genre='Horror', count=17),\n",
       " Row(genre='Western', count=7),\n",
       " Row(genre='Comedy', count=83),\n",
       " Row(genre='Children', count=42),\n",
       " Row(genre='Action', count=90),\n",
       " Row(genre='Sci-Fi', count=40)]"
      ]
     },
     "metadata": {},
     "execution_count": 61
    }
   ],
   "source": [
    "# Search user by id, show the number of movies/genre that he/she has watched\n",
    "def search_user(user_id: int):\n",
    "    rated_movies = df_ratings.where(f\"userId = {user_id}\").select(\"movieId\").distinct()\n",
    "    tagged_movies = df_tags.where(f\"userId = {user_id}\").select(\"movieId\").distinct()\n",
    "    movies = rated_movies.union(tagged_movies).distinct().join(df_movies, on=[\"movieId\"], how=\"inner\")\n",
    "    movies = movies.select(movies.movieId, explode(split(movies.genres, \"\\|\")).alias(\"genre\"))\n",
    "    movies = movies.groupBy(\"genre\").count()\n",
    "    return movies.collect()\n",
    "search_user(1)"
   ]
  },
  {
   "cell_type": "code",
   "execution_count": null,
   "metadata": {},
   "outputs": [],
   "source": []
  }
 ]
}